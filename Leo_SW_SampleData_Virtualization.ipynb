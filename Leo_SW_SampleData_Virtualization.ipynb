{
  "nbformat": 4,
  "nbformat_minor": 0,
  "metadata": {
    "colab": {
      "name": "Leo SW_SampleData_Virtualization.ipynb",
      "private_outputs": true,
      "provenance": [],
      "include_colab_link": true
    },
    "kernelspec": {
      "name": "python3",
      "display_name": "Python 3"
    }
  },
  "cells": [
    {
      "cell_type": "markdown",
      "metadata": {
        "id": "view-in-github",
        "colab_type": "text"
      },
      "source": [
        "<a href=\"https://colab.research.google.com/github/leozou321/ECON211-Research-Proposal/blob/main/Leo_SW_SampleData_Virtualization.ipynb\" target=\"_parent\"><img src=\"https://colab.research.google.com/assets/colab-badge.svg\" alt=\"Open In Colab\"/></a>"
      ]
    },
    {
      "cell_type": "markdown",
      "metadata": {
        "id": "TB0sNYDCJ0M0"
      },
      "source": [
        "# Step 1: Data Wrangling"
      ]
    },
    {
      "cell_type": "code",
      "metadata": {
        "id": "fIsslb8YINKh"
      },
      "source": [
        "import pandas as pd \r\n",
        "import numpy as np\r\n",
        "from sklearn.tree import DecisionTreeClassifier # Import Decision Tree Classifier\r\n",
        "from sklearn import metrics \r\n",
        "import matplotlib.pyplot as plt"
      ],
      "execution_count": null,
      "outputs": []
    },
    {
      "cell_type": "code",
      "metadata": {
        "id": "qTM-a9GZIWRL"
      },
      "source": [
        "###show all columns\r\n",
        "pd.set_option('display.max_columns', None)\r\n",
        "pd.set_option('display.max_rows', None)"
      ],
      "execution_count": null,
      "outputs": []
    },
    {
      "cell_type": "code",
      "metadata": {
        "id": "ZH8NDdVFImVZ"
      },
      "source": [
        "Car_Sell=pd.read_csv('https://raw.githubusercontent.com/leozou321/ECON211-Research-Proposal/main/EU%20EV(1).csv')\r\n",
        "Car_Sell['Sales volume of electric vehicles in Europe 2014-2020'][14] = \"Q3 '19\"\r\n",
        "Car_Sell['Sales volume of electric vehicles in Europe 2014-2020'][15] = \"Q4 '19\"\r\n",
        "Car_Sell"
      ],
      "execution_count": null,
      "outputs": []
    },
    {
      "cell_type": "code",
      "metadata": {
        "id": "I8SKBGkQI8vx"
      },
      "source": [
        "STOXX=pd.read_csv('https://raw.githubusercontent.com/leozou321/ECON211-Research-Proposal/main/STOXX%20Ind%20Gds%26Ser%E6%9C%9F%E8%B4%A7%E5%8E%86%E5%8F%B2%E6%95%B0%E6%8D%AE.csv')\r\n",
        "STOXX['volatility_STOXX']=STOXX['涨跌幅'].apply(lambda x: float(x[:-1]) if type(x)==str else 0)\r\n",
        "STOXX.head()"
      ],
      "execution_count": null,
      "outputs": []
    },
    {
      "cell_type": "code",
      "metadata": {
        "id": "dPDtDgFaBbCF"
      },
      "source": [
        "oil_futures = pd.read_csv(\"https://raw.githubusercontent.com/leozou321/ECON211-Research-Proposal/main/%E4%BC%A6%E6%95%A6%E5%B8%83%E4%BC%A6%E7%89%B9%E5%8E%9F%E6%B2%B9%E6%9C%9F%E8%B4%A7%E5%8E%86%E5%8F%B2%E6%95%B0%E6%8D%AE%20(3).csv\")\n",
        "oil_futures['volatility_Oil']=oil_futures['涨跌幅'].apply(lambda x: float(x[:-1]) if type(x)==str else 0)\n",
        "oil_futures.head()"
      ],
      "execution_count": null,
      "outputs": []
    },
    {
      "cell_type": "code",
      "metadata": {
        "id": "weHeadYBBoYu"
      },
      "source": [
        "gas_futures = pd.read_csv(\"https://raw.githubusercontent.com/leozou321/ECON211-Research-Proposal/main/%E5%A4%A9%E7%84%B6%E6%B0%94%E6%9C%9F%E8%B4%A7%E5%8E%86%E5%8F%B2%E6%95%B0%E6%8D%AE%20(2).csv\")\n",
        "gas_futures['volatility_Gas']=gas_futures['涨跌幅'].apply(lambda x: float(x[:-1]) if type(x)==str else 0)\n",
        "gas_futures.head()"
      ],
      "execution_count": null,
      "outputs": []
    },
    {
      "cell_type": "code",
      "metadata": {
        "id": "b2GZDMWVGuwn"
      },
      "source": [
        "#Merge the three tables of futures together\n",
        "df1 = pd.merge(STOXX,oil_futures,how='inner',on=\"日期\")\n",
        "futures = pd.merge(df1,gas_futures,how='inner',on=\"日期\")\n",
        "futures.head()"
      ],
      "execution_count": null,
      "outputs": []
    },
    {
      "cell_type": "code",
      "metadata": {
        "id": "4zamv3sCIuLK"
      },
      "source": [
        "#Establish a function that transform the date\n",
        "def func_date(x):\n",
        "    year = x.split(\"年\")[0]\n",
        "    month = x.split(\"年\")[1].split(\"月\")[0]\n",
        "    day = x.split(\"年\")[1].split(\"月\")[1].split(\"日\")[0]\n",
        "    if month==\"10\" or month==\"11\" or month==\"12\":\n",
        "      final_date = year + \"/\" + month + \"/\" + day\n",
        "    else:\n",
        "      final_date = year + \"/\" +\"0\"+ month + \"/\" + day\n",
        "    return final_date"
      ],
      "execution_count": null,
      "outputs": []
    },
    {
      "cell_type": "code",
      "metadata": {
        "id": "UgmoczmfJBIr"
      },
      "source": [
        "futures['Date']=futures['日期'].apply(lambda x: func_date(x) if type(x)==str else 0)\n",
        "futures.head()"
      ],
      "execution_count": null,
      "outputs": []
    },
    {
      "cell_type": "markdown",
      "metadata": {
        "id": "WXfdY-ZcJ3pu"
      },
      "source": [
        "# Data Virtualization"
      ]
    },
    {
      "cell_type": "code",
      "metadata": {
        "id": "n6GEXxsgJdkP"
      },
      "source": [
        "futures['Date'] = pd.to_datetime(futures['Date'])\n"
      ],
      "execution_count": null,
      "outputs": []
    },
    {
      "cell_type": "code",
      "metadata": {
        "id": "DMVcRSaPoCFw"
      },
      "source": [
        "# Plot the Volatility of STOXX vs. Oil Future vs. Gas Future together\n",
        "\n",
        "plt.figure(figsize=(26,8))\n",
        "plt.title('Volatility of STOXX vs. Oil Future vs. Gas Future') \n",
        "plt.xlabel('Time')  \n",
        "plt.ylabel('Volatility(%)') \n",
        "plt.plot(futures['Date'], futures['volatility_STOXX'], marker='o', markersize=3)  \n",
        "plt.plot(futures['Date'], futures['volatility_Oil'], marker='o', markersize=3)\n",
        "plt.plot(futures['Date'], futures['volatility_Gas'], marker='o', markersize=3)\n",
        "\n",
        "\n",
        "plt.legend(['STOXX', 'Oil Future', 'Gas Future']) \n",
        "\n",
        "plt.show()"
      ],
      "execution_count": null,
      "outputs": []
    },
    {
      "cell_type": "code",
      "metadata": {
        "id": "Ch9KDctHJwMk"
      },
      "source": [
        "# Plot the Volatility of STOXX \r\n",
        "\r\n",
        "plt.figure(figsize=(26,8))\r\n",
        "plt.title('Volatility of STOXX') \r\n",
        "plt.xlabel('Time')  \r\n",
        "plt.ylabel('Volatility(%)') \r\n",
        "plt.plot(futures['Date'], futures['volatility_STOXX'], marker='o', markersize=3)  \r\n",
        "\r\n",
        "plt.show()"
      ],
      "execution_count": null,
      "outputs": []
    },
    {
      "cell_type": "code",
      "metadata": {
        "id": "4M83RDrL0_3a"
      },
      "source": [
        "# Plot the Volatility of Oil Futures\r\n",
        "\r\n",
        "plt.figure(figsize=(26,8))\r\n",
        "plt.title('Volatility of Oil Futures') \r\n",
        "plt.xlabel('Time')  \r\n",
        "plt.ylabel('Volatility(%)') \r\n",
        "plt.plot(futures['Date'], futures['volatility_Oil'], marker='o', markersize=3, color='orange')  \r\n",
        "\r\n",
        "plt.show()"
      ],
      "execution_count": null,
      "outputs": []
    },
    {
      "cell_type": "code",
      "metadata": {
        "id": "WOLizCoIo73K"
      },
      "source": [
        "# Plot the Volatility of Gas Futures\n",
        "\n",
        "plt.figure(figsize=(26,8))\n",
        "plt.title('Volatility of Gas Futures') \n",
        "plt.xlabel('Time')  \n",
        "plt.ylabel('Volatility(%)') \n",
        "plt.plot(futures['Date'], futures['volatility_Gas'], marker='o', markersize=3, color='green')  \n",
        "\n",
        "plt.show()"
      ],
      "execution_count": null,
      "outputs": []
    },
    {
      "cell_type": "code",
      "metadata": {
        "id": "pOO6Cd-_MEh5"
      },
      "source": [
        ""
      ],
      "execution_count": null,
      "outputs": []
    }
  ]
}